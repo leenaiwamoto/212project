import numpy as np
from astropy.cosmology import Planck18

class Background:
    def __init__(self, cosmo=None):
        self.cosmo = cosmo or Planck18
        self.H0    = self.cosmo.H0
        self.h     = 0.6732
        self.Om0   = 0.3141450858238108        # Total matter density (baryons + CDM)
        self.Ob0   = 0.0493602976039801
        self.Ode0  = 0.6857626237438921

    def Hratio(self, a):
        return np.sqrt(self.Om0 / a**3 + (1- self.Om0 - self.Ode0) / a**4 + self.Ode0)

    def get_pklin(self, k, redshift):
        return k**self.cosmo.n_s

    def scale_independent_growth_factor(self, redshift):
        # A simple growth factor: D(z) ~ 1/(1+z)
        return 1.0 / (1.0 + redshift)

    def clone(self):
        import copy
        return copy.deepcopy(self)

def add_extra_parameters(bg):
    bg.Tcmb0  = 2.725  # Kelvin
    bg.n_s    = 0.96   
    bg.sigma8 = 0.8   
    bg.P_k_max = 1.0  
    return bg


class EisensteinHu:
    def __init__(self, cosmo, redshift):
        self.cosmo = cosmo
        self.redshift = redshift
        self.Obh2 = self.cosmo.Ob0 * self.cosmo.h**2
        self.Omh2 = self.cosmo.Om0 * self.cosmo.h**2
        self.f_baryon = self.cosmo.Ob0 / self.cosmo.Om0
        self.theta_cmb = self.cosmo.Tcmb0 / 2.7

        # Redshift and k for matter-radiation equality.
        self.z_eq = 2.5e4 * self.Omh2 * self.theta_cmb**(-4)
        self.k_eq = 0.0746 * self.Omh2 * self.theta_cmb**(-2)

        # Drag epoch and sound horizon quantities.
        self.z_drag_b1 = 0.313 * self.Omh2**(-0.419) * (1 + 0.607 * self.Omh2**0.674)
        self.z_drag_b2 = 0.238 * self.Omh2**0.223
        self.z_drag = 1291 * self.Omh2**0.251 / (1.0 + 0.659 * self.Omh2**0.828) * (
                      1.0 + self.z_drag_b1 * self.Obh2**self.z_drag_b2)
        self.r_drag = 31.5 * self.Obh2 * self.theta_cmb**(-4) * (1000.0 / (1.0 + self.z_drag))
        self.r_eq = 31.5 * self.Obh2 * self.theta_cmb**(-4) * (1000.0 / self.z_eq)
        self.sound_horizon = (2.0 / (3.0*self.k_eq) * np.sqrt(6.0/self.r_eq) *
                              np.log((np.sqrt(1+self.r_drag) + np.sqrt(self.r_drag+self.r_eq))/
                                     (1.0+np.sqrt(self.r_eq))))
        self.k_silk = 1.6 * self.Obh2**0.52 * self.Omh2**0.73 * (1 + (10.4*self.Omh2)**(-0.95))

        # Compute alpha_c.
        alpha_c_a1 = (46.9 * self.Omh2)**0.67 * (1 + (32.1 * self.Omh2)**(-0.532))
        alpha_c_a2 = (12.0 * self.Omh2)**0.424 * (1 + (45.0 * self.Omh2)**(-0.582))
        self.alpha_c = alpha_c_a1**(-self.f_baryon) * alpha_c_a2**(-self.f_baryon**3)

        # Compute beta_c.
        beta_c_b1 = 0.944 / (1 + (458 * self.Omh2)**(-0.708))
        beta_c_b2 = 0.395 * self.Omh2**(-0.0266)
        self.beta_c = 1.0 / (1 + beta_c_b1 * ((1 - self.f_baryon)**beta_c_b2) - 1)

        y = self.z_eq / (1 + self.z_drag)
        alpha_b_G = y * (-6.0*np.sqrt(1+y) + (2.0+3.0*y)*
                         np.log((np.sqrt(1+y)+1)/(np.sqrt(1+y)-1)))
        self.alpha_b = 2.07 * self.k_eq * self.sound_horizon * (1+self.r_drag)**(-0.75) * alpha_b_G

        self.beta_node = 8.41 * self.Omh2**0.435
        self.beta_b = 0.5 + self.f_baryon + (3.0 - 2.0*self.f_baryon)*np.sqrt((17.2*self.Omh2)**2+1)

    def __call__(self, k):
        if np.isscalar(k) and k == 0:
            return 1.0
        k = np.asarray(k)
        valid = k > 0.
        # Convert k from [h/Mpc] to [1/Mpc]
        k_mpc = k[valid] * self.cosmo.h
        q = k_mpc / (13.41 * self.k_eq)
        ks = k_mpc * self.sound_horizon

        T_c_ln_beta = np.log(np.e + 1.8 * self.beta_c * q)
        T_c_ln_nobeta = np.log(np.e + 1.8 * q)
        T_c_C_alpha = 14.2 / self.alpha_c + 386. / (1 + 69.9 * q**1.08)
        T_c_C_noalpha = 14.2 + 386. / (1 + 69.9 * q**1.08)
        T_c_f = 1.0 / (1.0 + (ks / 5.4)**4)
        f_func = lambda a, b: a / (a + b * q**2)
        T_c = T_c_f * f_func(T_c_ln_beta, T_c_C_noalpha) + (1.0 - T_c_f) * f_func(T_c_ln_beta, T_c_C_alpha)

        s_tilde = self.sound_horizon * (1 + (self.beta_node/ks)**3)**(-1.0/3.0)
        ks_tilde = k_mpc * s_tilde

        T_b_T0 = f_func(T_c_ln_nobeta, T_c_C_noalpha)
        T_b_1 = T_b_T0 / (1 + (ks / 5.2)**2)
        T_b_2 = self.alpha_b / (1 + (self.beta_b/ks)**3) * np.exp(-(k_mpc / self.k_silk)**1.4)
        T_b = np.sinc(ks_tilde / np.pi) * (T_b_1 + T_b_2)
        T = self.f_baryon * T_b + (1.0 - self.f_baryon) * T_c

        result = np.ones(k.shape)

        result[valid] = T * self.cosmo.scale_in1dependent_growth_factor(self.redshift)
        return result

class LinearPower:
    def __init__(self, cosmo, redshift, transfer='EisensteinHu'):
        self.cosmo = cosmo
        self._sigma8 = self.cosmo.sigma8
        self.k_pivot = 0.05
        self.transfer = transfer
        self._transfer = EisensteinHu(self.cosmo, redshift)
        # Set a temporary normalization to 1.0.
        self._norm = 1.0
        # Compute sigma_r at r = 8 Mpc/h (at z = 0).
        norm_factor = (self._sigma8 / self.sigma_r(8.0))**2
        self._norm = norm_factor
        # update to the desired redshift.
        self.redshift = redshift
        self._transfer.redshift = redshift
        self._fallback.redshift = redshift

    def __call__(self, k):
        T_k = self._transfer(k)
        Pk = Pk = (k/self.k_pivot)**(self.cosmo.n_s - 1) * T_k**2
        return self._norm * Pk

    def sigma_r(self, r, kmin=1e-5, kmax=1e1, num=1024):
        k = np.logspace(np.log10(kmin), np.log10(kmax), num)
        Pk = self(k)
        kr = k * r
        W = np.where(kr == 0, 1.0, 3*(np.sin(kr)-kr*np.cos(kr))/(kr)**3)
        ln_k = np.log(k)
        sigma2 = np.trapz((k**3 * Pk/(2*np.pi**2)) * W**2, ln_k)
        return np.sqrt(sigma2)

    def velocity_dispersion(self, kmin=1e-5, kmax=10., num=1024):
        k = np.logspace(np.log10(kmin), np.log10(kmax), num)
        Pk = self(k)
        ln_k = np.log(k)
        sigma_v2 = np.trapz((k**2 * Pk)/(2*np.pi**2), ln_k)/3.0
        return np.sqrt(sigma_v2)
